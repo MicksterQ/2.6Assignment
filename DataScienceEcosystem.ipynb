{
 "cells": [
  {
   "cell_type": "markdown",
   "id": "79b043e9-6da4-48f9-a8ec-533b1c3ab207",
   "metadata": {},
   "source": [
    "# Data Science Tools and Ecosystem"
   ]
  },
  {
   "cell_type": "code",
   "execution_count": null,
   "id": "4230acf9-eacb-4343-b80c-97decd122c7e",
   "metadata": {},
   "outputs": [],
   "source": [
    "## Author\n",
    "Michael Quinn"
   ]
  },
  {
   "cell_type": "markdown",
   "id": "91f65670-56b7-4f6a-9933-c367cb46e95d",
   "metadata": {},
   "source": [
    "In this notebook, Data Science Tools and Ecosystem are summarized"
   ]
  },
  {
   "cell_type": "markdown",
   "id": "2fbbc1f2-3325-43e8-bda2-5a9e22e9a983",
   "metadata": {},
   "source": [
    "**Objectives:**\n",
    "* List popular languages for Data Science\n",
    "* List commonly used libraries in Data Science\n",
    "* Create a table of Data Science Tools\n",
    "* Present some examples of python code"
   ]
  },
  {
   "cell_type": "markdown",
   "id": "8aa72249-a3f5-431c-b584-1c74615294f5",
   "metadata": {},
   "source": [
    "Some of the popular languages that Data Scientists use are:\n",
    "1) Python\n",
    "2) R\n",
    "3) Scala\n",
    "4) Julia"
   ]
  },
  {
   "cell_type": "markdown",
   "id": "2eb1f560-b6f7-4959-b017-a9cf66adaf94",
   "metadata": {},
   "source": [
    "Some of the commonly used libraries used by Data Scientists include:\n",
    "1) Numpy\n",
    "2) Matplotlib\n",
    "3) Pandas\n",
    "4) dplyr"
   ]
  },
  {
   "cell_type": "markdown",
   "id": "222decb4-9670-4d58-aec3-9cb668e90a76",
   "metadata": {},
   "source": [
    "| Data Science Tools|\n",
    "|------------------|\n",
    "| Tensor Flow |\n",
    "| Apache Spark |\n",
    "| MongoDB |"
   ]
  },
  {
   "cell_type": "markdown",
   "id": "5aa2054a-a846-4f3e-ab96-e13cec76d948",
   "metadata": {},
   "source": [
    "### Below are a few examples of evaluating arithmetic expressions in Python"
   ]
  },
  {
   "cell_type": "code",
   "execution_count": 9,
   "id": "f928358f-32ff-43af-89e4-c83530925636",
   "metadata": {},
   "outputs": [
    {
     "data": {
      "text/plain": [
       "17"
      ]
     },
     "execution_count": 9,
     "metadata": {},
     "output_type": "execute_result"
    }
   ],
   "source": [
    "# This a simple arithmetic expression to mutiply then add integers\n",
    "\n",
    "(3*4)+5"
   ]
  },
  {
   "cell_type": "code",
   "execution_count": 15,
   "id": "7c0f83c3-6d44-4786-b1f7-95ad47268238",
   "metadata": {},
   "outputs": [
    {
     "data": {
      "text/plain": [
       "3.3333333333333335"
      ]
     },
     "execution_count": 15,
     "metadata": {},
     "output_type": "execute_result"
    }
   ],
   "source": [
    "# This will convert 200 minutes to hours by diving by 60\n",
    "\n",
    "200/60"
   ]
  },
  {
   "cell_type": "code",
   "execution_count": null,
   "id": "5b920573-490d-442f-add9-93bc62916ee1",
   "metadata": {},
   "outputs": [],
   "source": []
  }
 ],
 "metadata": {
  "kernelspec": {
   "display_name": "anaconda-panel-2023.05-py310",
   "language": "python",
   "name": "conda-env-anaconda-panel-2023.05-py310-py"
  },
  "language_info": {
   "codemirror_mode": {
    "name": "ipython",
    "version": 3
   },
   "file_extension": ".py",
   "mimetype": "text/x-python",
   "name": "python",
   "nbconvert_exporter": "python",
   "pygments_lexer": "ipython3",
   "version": "3.11.5"
  }
 },
 "nbformat": 4,
 "nbformat_minor": 5
}
